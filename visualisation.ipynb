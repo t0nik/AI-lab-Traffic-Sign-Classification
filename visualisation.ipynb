{
 "cells": [
  {
   "cell_type": "markdown",
   "id": "044dd571",
   "metadata": {},
   "source": [
    "## AI lab project: Traffic sign detection\n",
    "\n",
    "### Packages used:\n",
    "\n",
    "- glob - https://docs.python.org/3/library/glob.html\n",
    "- The ElementTree XML API - https://docs.python.org/3/library/xml.etree.elementtree.html\n",
    "- OpenCV - https://opencv.org/"
   ]
  },
  {
   "cell_type": "markdown",
   "id": "af19fec9",
   "metadata": {},
   "source": [
    "### Algorithms used - with code examples:\n",
    "\n",
    "parse_data() - `main.py, lines 7-72`: Reading .xml files and putting data in a custom structure."
   ]
  },
  {
   "cell_type": "code",
   "execution_count": null,
   "id": "3fd7d949",
   "metadata": {},
   "outputs": [],
   "source": []
  },
  {
   "cell_type": "markdown",
   "id": "1631034b",
   "metadata": {},
   "source": [
    "hi() - `main.py, lines a-b`: hello"
   ]
  },
  {
   "cell_type": "code",
   "execution_count": null,
   "id": "0a338140",
   "metadata": {},
   "outputs": [],
   "source": []
  }
 ],
 "metadata": {
  "kernelspec": {
   "display_name": "Python 3 (ipykernel)",
   "language": "python",
   "name": "python3"
  },
  "language_info": {
   "codemirror_mode": {
    "name": "ipython",
    "version": 3
   },
   "file_extension": ".py",
   "mimetype": "text/x-python",
   "name": "python",
   "nbconvert_exporter": "python",
   "pygments_lexer": "ipython3",
   "version": "3.9.10"
  }
 },
 "nbformat": 4,
 "nbformat_minor": 5
}
