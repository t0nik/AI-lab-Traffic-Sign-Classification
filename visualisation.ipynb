{
 "cells": [
  {
   "cell_type": "markdown",
   "id": "044dd571",
   "metadata": {},
   "source": [
    "## AI lab project: Traffic sign detection\n",
    "\n",
    "### Important algorithms used in this project - with code examples:\n",
    "\n",
    "whatever() - `main.py, lines x-z`: no info given."
   ]
  },
  {
   "cell_type": "code",
   "execution_count": null,
   "id": "a5a4ac2b",
   "metadata": {},
   "outputs": [],
   "source": []
  },
  {
   "cell_type": "markdown",
   "id": "1631034b",
   "metadata": {},
   "source": [
    "hi() - `main.py, lines a-b`: hello"
   ]
  },
  {
   "cell_type": "code",
   "execution_count": null,
   "id": "0a338140",
   "metadata": {},
   "outputs": [],
   "source": []
  }
 ],
 "metadata": {
  "kernelspec": {
   "display_name": "Python 3 (ipykernel)",
   "language": "python",
   "name": "python3"
  },
  "language_info": {
   "codemirror_mode": {
    "name": "ipython",
    "version": 3
   },
   "file_extension": ".py",
   "mimetype": "text/x-python",
   "name": "python",
   "nbconvert_exporter": "python",
   "pygments_lexer": "ipython3",
   "version": "3.9.10"
  }
 },
 "nbformat": 4,
 "nbformat_minor": 5
}
